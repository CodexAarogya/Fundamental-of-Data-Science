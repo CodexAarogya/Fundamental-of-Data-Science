{
 "cells": [
  {
   "cell_type": "markdown",
   "metadata": {},
   "source": [
    "## Assignment-1"
   ]
  },
  {
   "cell_type": "code",
   "execution_count": 33,
   "metadata": {},
   "outputs": [],
   "source": [
    "import numpy as np\n",
    "import numpy.linalg as LA"
   ]
  },
  {
   "cell_type": "markdown",
   "metadata": {},
   "source": [
    "### Question -1"
   ]
  },
  {
   "cell_type": "markdown",
   "metadata": {},
   "source": [
    "#### 1. Matrix Operation\n",
    "Perform the following operations on the given matrices: <br>\n",
    "A=[[2    -1], [​0    3​]] <br>\n",
    "B=[[1   ​ 2], [-3      4​]] <br>\n",
    "a. A+B <br>\n",
    "b. AB  <br>\n",
    "c. 3A−2B "
   ]
  },
  {
   "cell_type": "code",
   "execution_count": 34,
   "metadata": {},
   "outputs": [
    {
     "name": "stdout",
     "output_type": "stream",
     "text": [
      "[[ 3  1]\n",
      " [-3  7]]\n",
      "---------------\n",
      "[[ 2 -2]\n",
      " [ 0 12]]\n",
      "---------------\n",
      "[[ 4 -7]\n",
      " [ 6  1]]\n"
     ]
    }
   ],
   "source": [
    "A = np.array([[2,-1],[0,3]])\n",
    "B = np.array([[1,2],[-3,4]])\n",
    "\n",
    "print(A + B)\n",
    "print(\"-\"*15)\n",
    "print(A * B)\n",
    "print(\"-\"*15)\n",
    "print(3*A - 2*B)"
   ]
  },
  {
   "cell_type": "markdown",
   "metadata": {},
   "source": [
    "### Question -2"
   ]
  },
  {
   "cell_type": "markdown",
   "metadata": {},
   "source": [
    "#### 2. Determinants and Inverses  "
   ]
  },
  {
   "cell_type": "markdown",
   "metadata": {},
   "source": [
    "<li>Find the determinant of A. </li>\n",
    "<li> whether A is invertible. If yes, calculate A−1. </li>"
   ]
  },
  {
   "cell_type": "code",
   "execution_count": 35,
   "metadata": {},
   "outputs": [
    {
     "name": "stdout",
     "output_type": "stream",
     "text": [
      "Inverse:  [[0.5        0.16666667]\n",
      " [0.         0.33333333]]\n",
      "\n",
      "Determinant :  6.0\n"
     ]
    }
   ],
   "source": [
    "determinant = np.linalg.det(A)\n",
    "if(determinant != 0):\n",
    "    print(\"Inverse: \",LA.inv(A))\n",
    "    print(\"\\nDeterminant : \",determinant)\n",
    "else:\n",
    "    print(\"Unable to Calculate Determinant\")"
   ]
  },
  {
   "cell_type": "markdown",
   "metadata": {},
   "source": [
    "### Question -3"
   ]
  },
  {
   "cell_type": "markdown",
   "metadata": {},
   "source": [
    "<li>Compute the eigenvalues and eigenvectors of the matrix: <br>\n",
    "C=[[4    1], [​−2       1]​] </li>"
   ]
  },
  {
   "cell_type": "code",
   "execution_count": 36,
   "metadata": {},
   "outputs": [
    {
     "name": "stdout",
     "output_type": "stream",
     "text": [
      "[3. 2.]\n",
      "-------------------- \n",
      "\n",
      "[[ 0.70710678 -0.4472136 ]\n",
      " [-0.70710678  0.89442719]]\n"
     ]
    }
   ],
   "source": [
    "C = np.array([[4,1],[-2,1]])\n",
    "eigen_val , eigen_vec = LA.eig(C)\n",
    "print(eigen_val)\n",
    "print(\"-\"*20,\"\\n\")\n",
    "print(eigen_vec)"
   ]
  },
  {
   "cell_type": "markdown",
   "metadata": {},
   "source": [
    "### Question -4"
   ]
  },
  {
   "cell_type": "markdown",
   "metadata": {},
   "source": [
    "You are given a dataset of cars with the following features:\n",
    "\n",
    "Number of cylinders (x1​)Engine size in liters (x2​)Horsepower (x3)\n",
    "\n",
    "<b>\n",
    "car 1:\n",
    "x1: 4\n",
    "x2:  1.5\n",
    "x3: 100\n",
    "and price: 20\n",
    "\n",
    "car 2:\n",
    "x1: 6\n",
    "x2:  2.0\n",
    "x3: 150\n",
    "and price: 30\n",
    "\n",
    "Then, find the price of a car 3 with features\n",
    "x1: 8\n",
    "x2:  3.0\n",
    "x3: 200\n",
    "price:? </b>\n",
    "\n",
    "Hints:\n",
    "1. Represent the given dataset as a matrix equation X.T*β=y, where X is the feature matrix, β is the coefficient vector, and y is the price vector  \n",
    "2. Compute β (the coefficients) using the normal equation:\n",
    "β=(X.T * X)^−1  X.T y\n",
    "\n",
    "where,\n",
    "X.T --> transpose matrix"
   ]
  },
  {
   "cell_type": "code",
   "execution_count": 37,
   "metadata": {},
   "outputs": [
    {
     "name": "stdout",
     "output_type": "stream",
     "text": [
      "Predicted price :  40.00000000000283\n"
     ]
    }
   ],
   "source": [
    "X = np.array([[4,1.5,100],[6,2.0,150]])\n",
    "X_req = np.array([8,3.0,200])\n",
    "Y = np.array([20,30])\n",
    "beta = LA.pinv(X.T @ X) @ (X.T @ Y)\n",
    "new_price = X_req @ beta\n",
    "print(\"Predicted price : \",new_price)\n"
   ]
  }
 ],
 "metadata": {
  "kernelspec": {
   "display_name": "Python 3",
   "language": "python",
   "name": "python3"
  },
  "language_info": {
   "codemirror_mode": {
    "name": "ipython",
    "version": 3
   },
   "file_extension": ".py",
   "mimetype": "text/x-python",
   "name": "python",
   "nbconvert_exporter": "python",
   "pygments_lexer": "ipython3",
   "version": "3.13.0"
  }
 },
 "nbformat": 4,
 "nbformat_minor": 2
}
